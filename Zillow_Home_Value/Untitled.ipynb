{
 "cells": [
  {
   "cell_type": "code",
   "execution_count": 1,
   "metadata": {},
   "outputs": [
    {
     "name": "stderr",
     "output_type": "stream",
     "text": [
      "C:\\Users\\poioi\\Anaconda3\\lib\\site-packages\\IPython\\core\\interactiveshell.py:2717: DtypeWarning: Columns (22,32,34,49,55) have mixed types. Specify dtype option on import or set low_memory=False.\n",
      "  interactivity=interactivity, compiler=compiler, result=result)\n"
     ]
    }
   ],
   "source": [
    "import numpy as np\n",
    "import pandas as pd\n",
    "import matplotlib.pyplot as plt\n",
    "\n",
    "properties = pd.read_csv('data/properties_2016.csv')\n",
    "transaction = pd.read_csv('data/train_2016.csv')\n",
    "properties.rename(columns={'parcelid':'id_parcel', 'yearbuilt': 'build_year', 'basementsqft':'area_basement', 'yardbuildingsqft17':'area_patio',\n",
    "                   'yardbuildingsqft26':'area_shed', 'poolsizesum':'area_pool', 'lotsizesquarefeet':'area_lot', 'garagetotalsqft':'area_garage',\n",
    "                   'finishedfloor1squarefeet': 'area_firstfloor_finished', 'calculatedfinishedsquarefeet':'area_total_calc',\n",
    "                   'finishedsquarefeet6':'area_base', 'finishedsquarefeet12':'area_live_finished','finishedsquarefeet13':'area_liveperi_finished',\n",
    "                   'finishedsquarefeet15':'area_total_finished','finishedsquarefeet50':'area_unknown', 'unitcnt':'num_unit',\n",
    "                   'numberofstories':'num_story', 'roomcnt':'num_room', 'bathroomcnt': 'num_bathroom', 'bedroomcnt':'num_bedroom',\n",
    "                   'calculatedbathnbr':'num_bathroom_calc', 'fullbathcnt':'num_bath', 'threequarterbathnbr':'num_75_bath',\n",
    "                   'fireplacecnt':'num_fireplace','poolcnt':'num_pool','garagecarcnt':'num_garage','regionidcounty':'region_county',\n",
    "                   'regionidcity':'region_city', 'regionidzip':'region_zip', 'regionidneighborhood':'region_neighbor',\n",
    "                   'taxvaluedollarcnt':'tax_total', 'structuretaxvaluedollarcnt':'tax_building', 'landtaxvaluedollarcnt':'tax_land',\n",
    "                   'taxamount':'tax_property','assessmentyear':'tax_year','taxdelinquencyflag':'tax_delinquency',\n",
    "                   'taxdelinquencyyear':'tax_delinquency_year','propertyzoningdesc':'zoning_property',\n",
    "                   'propertylandusetypeid':'zoning_landuse', 'propertycountylandusecode':'zoning_landuse_county',\n",
    "                   'fireplaceflag':'flag_fireplace','hashottuborspa':'flag_tub','buildingqualitytypeid':'quality',\n",
    "                   'buildingclasstypeid':'framing', 'typeconstructiontypeid':'material','decktypeid':'deck',\n",
    "                   'storytypeid':'story','heatingorsystemtypeid':'heating','airconditioningtypeid':'aircon',\n",
    "                   'architecturalstyletypeid':'architectural_style'}, inplace=True)\n",
    "    \n",
    "transaction.rename(columns={'parcelid':'id_parcel','transactiondate':'date'})\n",
    "\n",
    "list_y = ['tax_delinquency', 'flag_fireplace', 'flag_tub']\n",
    "def change_y_1(df, lsts):\n",
    "    for lst in lsts:\n",
    "        df[lst] = df[lst].apply(lambda x: 1 if x == 'Y' else 0)\n",
    "change_y_1(properties,list_y)"
   ]
  },
  {
   "cell_type": "code",
   "execution_count": 9,
   "metadata": {
    "collapsed": true
   },
   "outputs": [],
   "source": [
    "import seaborn as sns\n",
    "import datetime"
   ]
  },
  {
   "cell_type": "code",
   "execution_count": 15,
   "metadata": {},
   "outputs": [
    {
     "data": {
      "text/plain": [
       "2016"
      ]
     },
     "execution_count": 15,
     "metadata": {},
     "output_type": "execute_result"
    }
   ],
   "source": [
    "datetime.datetime.strptime(transaction.transactiondate[1],\"%Y-%m-%d\").year\n"
   ]
  },
  {
   "cell_type": "code",
   "execution_count": 17,
   "metadata": {},
   "outputs": [
    {
     "data": {
      "text/plain": [
       "0    2016-01-01\n",
       "1    2016-01-01\n",
       "2    2016-01-01\n",
       "3    2016-01-02\n",
       "4    2016-01-02\n",
       "Name: transactiondate, dtype: object"
      ]
     },
     "execution_count": 17,
     "metadata": {},
     "output_type": "execute_result"
    }
   ],
   "source": [
    "transaction.transactiondate.head()"
   ]
  },
  {
   "cell_type": "code",
   "execution_count": 36,
   "metadata": {},
   "outputs": [
    {
     "ename": "SyntaxError",
     "evalue": "unexpected EOF while parsing (<ipython-input-36-1ffb5494bb31>, line 2)",
     "output_type": "error",
     "traceback": [
      "\u001b[1;36m  File \u001b[1;32m\"<ipython-input-36-1ffb5494bb31>\"\u001b[1;36m, line \u001b[1;32m2\u001b[0m\n\u001b[1;33m    print(check_output(['ls','-l'])\u001b[0m\n\u001b[1;37m                                   ^\u001b[0m\n\u001b[1;31mSyntaxError\u001b[0m\u001b[1;31m:\u001b[0m unexpected EOF while parsing\n"
     ]
    }
   ],
   "source": [
    "from subprocess import check_output\n",
    "print(check_output(['ls','-l'])"
   ]
  }
 ],
 "metadata": {
  "anaconda-cloud": {},
  "kernelspec": {
   "display_name": "Python [conda root]",
   "language": "python",
   "name": "conda-root-py"
  },
  "language_info": {
   "codemirror_mode": {
    "name": "ipython",
    "version": 3
   },
   "file_extension": ".py",
   "mimetype": "text/x-python",
   "name": "python",
   "nbconvert_exporter": "python",
   "pygments_lexer": "ipython3",
   "version": "3.5.3"
  }
 },
 "nbformat": 4,
 "nbformat_minor": 2
}
